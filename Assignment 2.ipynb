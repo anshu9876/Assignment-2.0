{
 "cells": [
  {
   "cell_type": "code",
   "execution_count": null,
   "id": "0a61e3fd-3c61-4c79-afb9-3e90e2924f0a",
   "metadata": {},
   "outputs": [],
   "source": [
    "# we can comment code in python using #\n",
    "# multiline comment,single line comment,"
   ]
  },
  {
   "cell_type": "code",
   "execution_count": null,
   "id": "01c4a3c7-310d-4dce-b709-c22b2d6e3f8f",
   "metadata": {},
   "outputs": [],
   "source": [
    "#varibles are just a name  of memory allocated in system to store constant strings etc \n"
   ]
  },
  {
   "cell_type": "code",
   "execution_count": 1,
   "id": "ce613cbb-4a6a-45d8-b802-b7f0d9ab1b8e",
   "metadata": {},
   "outputs": [
    {
     "name": "stdout",
     "output_type": "stream",
     "text": [
      "3\n"
     ]
    }
   ],
   "source": [
    "a=3\n",
    "# here a is a variable and 3 is a constant assign\n",
    "print(a)"
   ]
  },
  {
   "cell_type": "code",
   "execution_count": 5,
   "id": "b1e890e8-f599-48ab-a67d-201cab2d9df9",
   "metadata": {},
   "outputs": [
    {
     "data": {
      "text/plain": [
       "0"
      ]
     },
     "execution_count": 5,
     "metadata": {},
     "output_type": "execute_result"
    }
   ],
   "source": [
    "# we can convert one data type to another by typecasting\n",
    "\n",
    "a=3\n",
    "b=4\n",
    "c=a/b\n",
    "int(c)\n",
    "\n"
   ]
  },
  {
   "cell_type": "code",
   "execution_count": 6,
   "id": "e7c769b4-a8f7-4cf4-8537-0fe4e5f5fe3d",
   "metadata": {},
   "outputs": [
    {
     "data": {
      "text/plain": [
       "0.75"
      ]
     },
     "execution_count": 6,
     "metadata": {},
     "output_type": "execute_result"
    }
   ],
   "source": [
    "c"
   ]
  },
  {
   "cell_type": "code",
   "execution_count": 11,
   "id": "3b51f62b-7dbb-4b35-9e7c-f29e6a892032",
   "metadata": {},
   "outputs": [
    {
     "data": {
      "text/plain": [
       "[2, 3]"
      ]
     },
     "execution_count": 11,
     "metadata": {},
     "output_type": "execute_result"
    }
   ],
   "source": [
    "l=[1,2,3,4,5]  #slicing\n",
    "l[1:3]"
   ]
  },
  {
   "cell_type": "code",
   "execution_count": 12,
   "id": "3fc5dfb3-d91e-4d95-b284-8d2dc2452984",
   "metadata": {},
   "outputs": [
    {
     "data": {
      "text/plain": [
       "complex"
      ]
     },
     "execution_count": 12,
     "metadata": {},
     "output_type": "execute_result"
    }
   ],
   "source": [
    "# complex number are the numbers which have real and imaginary part\n",
    "p=4+5j\n",
    "type(p)"
   ]
  },
  {
   "cell_type": "code",
   "execution_count": 13,
   "id": "5043a9cb-06c0-444c-abec-d735f427bb51",
   "metadata": {},
   "outputs": [
    {
     "data": {
      "text/plain": [
       "float"
      ]
     },
     "execution_count": 13,
     "metadata": {},
     "output_type": "execute_result"
    }
   ],
   "source": [
    "price=9.99\n",
    "type(price)"
   ]
  },
  {
   "cell_type": "code",
   "execution_count": 21,
   "id": "8c389104-d9fe-47a6-bd7d-bfbdf8fd8e3d",
   "metadata": {},
   "outputs": [
    {
     "data": {
      "text/plain": [
       "' world'"
      ]
     },
     "execution_count": 21,
     "metadata": {},
     "output_type": "execute_result"
    }
   ],
   "source": [
    "p1=\"hello world\"\n",
    "p1[5:11]\n"
   ]
  },
  {
   "cell_type": "code",
   "execution_count": null,
   "id": "474ae041-691e-4143-925c-46ef17b063aa",
   "metadata": {},
   "outputs": [],
   "source": []
  }
 ],
 "metadata": {
  "kernelspec": {
   "display_name": "Python 3 (ipykernel)",
   "language": "python",
   "name": "python3"
  },
  "language_info": {
   "codemirror_mode": {
    "name": "ipython",
    "version": 3
   },
   "file_extension": ".py",
   "mimetype": "text/x-python",
   "name": "python",
   "nbconvert_exporter": "python",
   "pygments_lexer": "ipython3",
   "version": "3.10.8"
  }
 },
 "nbformat": 4,
 "nbformat_minor": 5
}
